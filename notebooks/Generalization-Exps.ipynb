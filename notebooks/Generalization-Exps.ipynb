{
 "cells": [
  {
   "cell_type": "code",
   "execution_count": null,
   "metadata": {
    "collapsed": false
   },
   "outputs": [],
   "source": [
    "import numpy as np\n",
    "import matplotlib.pyplot as plt\n",
    "%matplotlib inline\n",
    "import random\n",
    "from PIL import Image\n",
    "import os\n",
    "import scipy.io\n",
    "\n",
    "import sys\n",
    "sys.path.append('../python')\n",
    "import caffe\n",
    "\n",
    "plt.rcParams['image.cmap'] = 'gray'\n",
    "plt.rcParams['image.interpolation'] = 'nearest'"
   ]
  },
  {
   "cell_type": "markdown",
   "metadata": {},
   "source": [
    "### Run inference with trained Yearbook models on different datasets"
   ]
  },
  {
   "cell_type": "code",
   "execution_count": null,
   "metadata": {
    "collapsed": false
   },
   "outputs": [],
   "source": [
    "# Helper methods for running inference in Caffe\n",
    "\n",
    "def feed_net(net, in_):\n",
    "    net.blobs['data'].reshape(1, *in_.shape)\n",
    "    net.blobs['data'].data[...] = in_\n",
    "    \n",
    "def run_net(net, in_):\n",
    "    feed_net(net, in_)\n",
    "    net.forward()\n",
    "    return np.squeeze(net.blobs['yrbook'].data)\n",
    "    #return np.squeeze(net.blobs['fc8'].data)\n",
    "\n",
    "def preprocess(im, mean):\n",
    "    \"\"\"\n",
    "    Preprocess loaded image (by load_image) for Caffe:\n",
    "    - cast to float\n",
    "    - switch channels RGB -> BGR\n",
    "    - subtract mean\n",
    "    - transpose to channel x height x width order\n",
    "    \"\"\"\n",
    "    in_ = im.astype(np.float32)\n",
    "    in_ = in_[:, :, ::-1]\n",
    "    in_ -= np.array(mean)\n",
    "    in_ = in_.transpose((2, 0, 1))\n",
    "    return in_\n",
    "\n",
    "def load_label(idx):\n",
    "    \"\"\"\n",
    "    Compute the label from the filename\n",
    "    \"\"\"\n",
    "    min_year = 28 \n",
    "    year = idx.split('_')[0]\n",
    "    if year[0] == str(1): # 20th century\n",
    "        label = int(year[-2:]) - min_year\n",
    "    else: # 21st century\n",
    "        label = int(year[-2:]) + (100 - min_year)\n",
    "    return label\n",
    "\n",
    "def label_to_year(label):\n",
    "    ''' Convert category labels back to years'''\n",
    "    return label + 1928"
   ]
  },
  {
   "cell_type": "code",
   "execution_count": null,
   "metadata": {
    "collapsed": false
   },
   "outputs": [],
   "source": [
    "# Config\n",
    "caffe.set_device(0)\n",
    "caffe.set_mode_gpu()\n",
    "exp = EXP\n",
    "it = ITERATION\n",
    "\n",
    "# load deploy net because we want to run the net on data that is not configured in the Python data layer\n",
    "proto = '../output/deploy.prototxt'.format(exp)\n",
    "weights = '../output/{}/snapshots/train_iter_{}.caffemodel'.format(exp, it)\n",
    "net = caffe.Net(proto, weights, caffe.TEST)"
   ]
  },
  {
   "cell_type": "code",
   "execution_count": null,
   "metadata": {
    "collapsed": false
   },
   "outputs": [],
   "source": [
    "# Images should reside in DATADIR/images and be listed in a file 'test.txt'\n",
    "\n",
    "data_dir = DATADIR \n",
    "women_test = open(os.path.join(data_dir, 'test.txt')).read().splitlines()\n",
    "im_shape = (96,96)\n",
    "mean = MEAN\n",
    "\n",
    "preds = np.zeros(len(women_test))\n",
    "gts = np.zeros(len(women_test))\n",
    "diffs = np.zeros(len(women_test))\n",
    "\n",
    "correct = 0    \n",
    "for i, path in enumerate(women_test):\n",
    "    img = np.array(Image.open('{}/images/{}'.format(data_dir, path)))\n",
    "    img = scipy.misc.imresize(img, im_shape)\n",
    "    pred = run_net(net, preprocess(img, mean))\n",
    "    probvec = np.squeeze(net.blobs['dist'].data) # softmax distribution\n",
    "    preds[i] = int(np.argmax(pred))\n",
    "    gts[i] = load_label(path)\n",
    "    if preds[i] == gts[i]:\n",
    "        correct += 1\n",
    "    diffs[i] = np.abs(preds[i] - gts[i])    "
   ]
  },
  {
   "cell_type": "markdown",
   "metadata": {},
   "source": [
    "### Some simple metrics"
   ]
  },
  {
   "cell_type": "code",
   "execution_count": null,
   "metadata": {
    "collapsed": false
   },
   "outputs": [],
   "source": [
    "# Print other metrics\n",
    "print 'Accuracy', correct / float(len(women_test))\n",
    "print 'Avg Error', np.average(diffs)\n",
    "print 'Median Error', np.median(diffs)\n",
    "print 'Class. Accuracy Within 5 Years', len([d for d in diffs if d <= 5]) / float(len(women_test))\n",
    "print 'Class. Accuracy Within 10 Years', len([d for d in diffs if d <= 10]) / float(len(women_test))"
   ]
  },
  {
   "cell_type": "markdown",
   "metadata": {},
   "source": [
    "### Histogram of L1 Errors"
   ]
  },
  {
   "cell_type": "code",
   "execution_count": null,
   "metadata": {
    "collapsed": false,
    "scrolled": false
   },
   "outputs": [],
   "source": [
    "import seaborn as sns\n",
    "\n",
    "from matplotlib import rc\n",
    "plt.rcParams['figure.figsize'] = (10, 6)\n",
    "\n",
    "fig, ax = plt.subplots()\n",
    "plt.hist(diffs, 7, normed=0, alpha=1, color='grey')\n",
    "plt.xlabel('Error in Years', labelpad=8)\n",
    "plt.ylabel('Number of Portraits', labelpad=8)\n",
    "print min(diffs)\n",
    "print max(diffs)\n",
    "\n",
    "for item in ([ax.title, ax.yaxis.label, ax.xaxis.label]):\n",
    "    item.set_fontsize(20)\n",
    "for item in ax.get_xticklabels() + ax.get_yticklabels():\n",
    "    item.set_fontsize(18)\n",
    "plt.savefig('L1-celeb-errors.pdf', bbox_inches='tight')\n",
    "plt.show()\n",
    "print sum(1 for x in diffs if x <=10)"
   ]
  }
 ],
 "metadata": {
  "kernelspec": {
   "display_name": "Python 2",
   "language": "python",
   "name": "python2"
  },
  "language_info": {
   "codemirror_mode": {
    "name": "ipython",
    "version": 2
   },
   "file_extension": ".py",
   "mimetype": "text/x-python",
   "name": "python",
   "nbconvert_exporter": "python",
   "pygments_lexer": "ipython2",
   "version": "2.7.6"
  }
 },
 "nbformat": 4,
 "nbformat_minor": 0
}
