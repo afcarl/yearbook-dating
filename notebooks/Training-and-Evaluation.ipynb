{
 "cells": [
  {
   "cell_type": "code",
   "execution_count": null,
   "metadata": {
    "collapsed": false,
    "deletable": true,
    "editable": true
   },
   "outputs": [],
   "source": [
    "import numpy as np\n",
    "import matplotlib.pyplot as plt\n",
    "%matplotlib inline\n",
    "import random\n",
    "\n",
    "plt.rcParams['image.cmap'] = 'gray'\n",
    "plt.rcParams['image.interpolation'] = 'nearest'\n",
    "plt.rcParams['figure.figsize'] = (12, 12)"
   ]
  },
  {
   "cell_type": "code",
   "execution_count": null,
   "metadata": {
    "collapsed": false,
    "deletable": true,
    "editable": true
   },
   "outputs": [],
   "source": [
    "def load_acc(expdir):\n",
    "    acc = np.load(expdir + '/accuracy.npy')\n",
    "    return acc[acc>0]\n",
    "def load_loss(expdir):\n",
    "    acc = np.load(expdir + '/train_loss.npy')\n",
    "    return acc[acc>0]"
   ]
  },
  {
   "cell_type": "markdown",
   "metadata": {
    "deletable": true,
    "editable": true
   },
   "source": [
    "### Dating Classification Problem\n",
    "Visualize training curves for learning a model to predict the date of a yearbook portrait."
   ]
  },
  {
   "cell_type": "code",
   "execution_count": null,
   "metadata": {
    "collapsed": false,
    "deletable": true,
    "editable": true
   },
   "outputs": [],
   "source": [
    "expdir0 = '../output/EXP' # inputs 96x96 \n",
    "\n",
    "plt.rcParams['figure.figsize'] = (20, 8)\n",
    "plt.figure()\n",
    "\n",
    "\n",
    "plt.subplot(1,2,1)\n",
    "plt.title('Validation Accuracy')\n",
    "t1, = plt.plot(load_acc(expdir0))\n",
    "\n",
    "\n",
    "plt.axis([0, 60, 0, .2])\n",
    "\n",
    "plt.subplot(1,2,2)\n",
    "plt.title('Train Loss')\n",
    "m1, = plt.plot(load_loss(expdir0))\n",
    "plt.axis([0, 60, 0, 5])\n",
    "plt.legend([t1], ['DESCRIPTION'])\n"
   ]
  },
  {
   "cell_type": "markdown",
   "metadata": {
    "deletable": true,
    "editable": true
   },
   "source": [
    "### Run the network on the validation set"
   ]
  },
  {
   "cell_type": "code",
   "execution_count": null,
   "metadata": {
    "collapsed": false,
    "deletable": true,
    "editable": true
   },
   "outputs": [],
   "source": [
    "import caffe\n",
    "\n",
    "# Config\n",
    "caffe.set_device(1)\n",
    "caffe.set_mode_gpu()\n",
    "exp = 'EXP'\n",
    "it = ITERATION\n",
    "\n",
    "# load net\n",
    "proto = '../output/{}/val.prototxt'.format(exp)\n",
    "weights = '../output/{}/snapshots/train_iter_{}.caffemodel'.format(exp, it)\n",
    "net = caffe.Net(proto, weights, caffe.TEST)"
   ]
  },
  {
   "cell_type": "code",
   "execution_count": null,
   "metadata": {
    "collapsed": false,
    "deletable": true,
    "editable": true
   },
   "outputs": [],
   "source": [
    "import os\n",
    "import numpy as np\n",
    "\n",
    "data_dir = '../data/faces/women'\n",
    "women_test = open(os.path.join(data_dir, 'test.txt')).read().splitlines()\n",
    "preds = np.zeros(len(women_test))\n",
    "gts = np.zeros(len(women_test))\n",
    "diffs = np.zeros(len(women_test))\n",
    "correct = 0\n",
    "for i, path in enumerate(women_test):\n",
    "    net.forward()\n",
    "    prob_vec = np.squeeze(net.blobs['yrbook'].data)\n",
    "    preds[i] = np.argmax(prob_vec)\n",
    "    gts[i] = net.blobs['label'].data\n",
    "    if preds[i] == gts[i]:\n",
    "        correct += 1\n",
    "    diffs[i] = np.abs(preds[i] - gts[i])\n",
    "print(correct)\n",
    "print(len(women_test))"
   ]
  },
  {
   "cell_type": "markdown",
   "metadata": {
    "deletable": true,
    "editable": true
   },
   "source": [
    "### Confusion Matrix"
   ]
  },
  {
   "cell_type": "code",
   "execution_count": null,
   "metadata": {
    "collapsed": true
   },
   "outputs": [],
   "source": [
    "# Make a truncated colormap for easier visualization\n",
    "import matplotlib.colors as colors\n",
    "def truncate_colormap(cmap, minval=0.0, maxval=1.0, n=100):\n",
    "    new_cmap = colors.LinearSegmentedColormap.from_list(\n",
    "        'trunc({n},{a:.2f},{b:.2f})'.format(n=cmap.name, a=minval, b=maxval),\n",
    "        cmap(np.append(np.array([0]),np.linspace(0.3, 1, 10))))\n",
    "    return new_cmap\n",
    "truncGreys = truncate_colormap(plt.cm.Greys, minval=0.3, maxval=1.0)\n",
    "print(np.append(np.array([0]),np.linspace(0.3, 1, 10)))"
   ]
  },
  {
   "cell_type": "code",
   "execution_count": null,
   "metadata": {
    "collapsed": false,
    "deletable": true,
    "editable": true
   },
   "outputs": [],
   "source": [
    "from sklearn.metrics import confusion_matrix\n",
    "import matplotlib as mpl\n",
    "import matplotlib.ticker as plticker\n",
    "import matplotlib.dates as mdates\n",
    "import seaborn as sns\n",
    "import math\n",
    "\n",
    "plt.rcParams['figure.figsize'] = (8,8)\n",
    "\n",
    "plt.rcdefaults()\n",
    "sns.set_style(\"white\")\n",
    "sns.set_style(\"ticks\", {\"xtick.major.size\": 8, \"ytick.major.size\": 8, 'xtick.direction': u'in', 'ytick.direction': u'in'})\n",
    "\n",
    "confmat = confusion_matrix(gts, preds)\n",
    "\n",
    "confmat = confmat.astype('float') / confmat.sum(axis=1)[:, np.newaxis] # normalize\n",
    "confmat[np.isnan(confmat)] = 0 \n",
    "\n",
    "\n",
    "fig, ax = plt.subplots()\n",
    "img = plt.imshow(confmat, interpolation='nearest', cmap=truncGreys) \n",
    "plt.tight_layout()\n",
    "plt.ylabel('True Year', labelpad=8)\n",
    "plt.xlabel('Predicted Year', labelpad=8)\n",
    "cbar = plt.colorbar(img, fraction=0.046, pad=0.04)\n",
    "cbar.set_label('Normalized Counts', labelpad=8, fontsize=18) \n",
    "\n",
    "new_tick_locs = [num for num in range(0,90, 10)]\n",
    "def class_to_year(classes):\n",
    "    return [str(c + 1928) for c in classes]\n",
    "plt.yticks(new_tick_locs, class_to_year(new_tick_locs))\n",
    "plt.xticks(new_tick_locs, class_to_year(new_tick_locs), rotation=45)\n",
    "for item in ([ax.title, ax.yaxis.label, ax.xaxis.label]):\n",
    "    item.set_fontsize(20)\n",
    "    item.fontweight='bold'\n",
    "for item in ax.get_xticklabels() + ax.get_yticklabels():\n",
    "    item.set_fontsize(18)\n",
    "plt.savefig('yrbook_confmat.pdf', bbox_inches='tight')"
   ]
  },
  {
   "cell_type": "markdown",
   "metadata": {
    "deletable": true,
    "editable": true
   },
   "source": [
    "### Some simple metrics"
   ]
  },
  {
   "cell_type": "code",
   "execution_count": null,
   "metadata": {
    "collapsed": false,
    "deletable": true,
    "editable": true
   },
   "outputs": [],
   "source": [
    "print 'Val Accuracy', correct / float(len(women_test))\n",
    "print 'Avg Error', np.average(diffs)\n",
    "print 'Median Error', np.median(diffs)\n",
    "print 'Class. Accuracy Within 5 Years', len([d for d in diffs if d <= 5]) / float(len(women_test))\n",
    "print 'Class. Accuracy Within 10 Years', len([d for d in diffs if d <= 10]) / float(len(women_test))"
   ]
  }
 ],
 "metadata": {
  "kernelspec": {
   "display_name": "Python 2",
   "language": "python",
   "name": "python2"
  },
  "language_info": {
   "codemirror_mode": {
    "name": "ipython",
    "version": 2
   },
   "file_extension": ".py",
   "mimetype": "text/x-python",
   "name": "python",
   "nbconvert_exporter": "python",
   "pygments_lexer": "ipython2",
   "version": "2.7.6"
  }
 },
 "nbformat": 4,
 "nbformat_minor": 0
}
